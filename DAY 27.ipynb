{
 "cells": [
  {
   "cell_type": "markdown",
   "id": "42a0ca72-e98c-474a-a1d0-453c1d84a53e",
   "metadata": {},
   "source": [
    "You have a long flowerbed in which some of the plots are planted, and some are not. However, flowers cannot be planted in adjacent plots.\n",
    "\n",
    "Given an integer array flowerbed containing 0's and 1's, where 0 means empty and 1 means not empty, and an integer n, return true if n new flowers can be planted in the flowerbed without violating the no-adjacent-flowers rule and false otherwise.\n",
    "\n",
    " \n",
    "\n",
    "Example 1:\n",
    "\n",
    "Input: flowerbed = [1,0,0,0,1], n = 1\n",
    "Output: true\n",
    "Example 2:\n",
    "\n",
    "Input: flowerbed = [1,0,0,0,1], n = 2\n",
    "Output: false"
   ]
  },
  {
   "cell_type": "code",
   "execution_count": 2,
   "id": "7c9d5c3f-84f5-492b-b32c-77310e79af64",
   "metadata": {},
   "outputs": [],
   "source": [
    "# Leet C\n",
    "class Sol(object):\n",
    "    def Flowerbed(self,flowerbed,n):\n",
    "        flowerbed = List[list]\n",
    "        n = int\n",
    "        Nbool = bool\n",
    "\n",
    "        length = len(flowerbed)\n",
    "        for i in length:\n",
    "            if flowerbed[i] == 0:\n",
    "                e_left = [i == 0] or (flowerbed[i-1] == 0)\n",
    "                e_right = ( i == [length - 1]) or (flowerbed[i+1] == 0)\n",
    "\n",
    "                if e_left and e_right:\n",
    "                    flowerbed[i] = 1\n",
    "                    n -= 1\n",
    "\n",
    "                    if n == 0:\n",
    "                        return true\n",
    "\n",
    "        return n <= 0\n",
    "\n",
    "# Without user input"
   ]
  },
  {
   "cell_type": "code",
   "execution_count": 4,
   "id": "26698694-26ec-41df-8457-54271163680e",
   "metadata": {},
   "outputs": [
    {
     "name": "stdin",
     "output_type": "stream",
     "text": [
      "Enter the flowerbed list (comma-separated 0s and 1s):  1,0,0,0,1\n",
      "Enter the number of flowers to plant:  2\n"
     ]
    },
    {
     "name": "stdout",
     "output_type": "stream",
     "text": [
      "False\n"
     ]
    }
   ],
   "source": [
    "# with User Input\n",
    "\n",
    "class Solution:\n",
    "    def __init__(self):\n",
    "        self.flowerbed = []\n",
    "        self.n = 0\n",
    "    \n",
    "    def get_input(self):\n",
    "        # Take user input for the flowerbed list and the number of flowers to plant\n",
    "        self.flowerbed = list(map(int, input(\"Enter the flowerbed list (comma-separated 0s and 1s): \").split(\",\")))\n",
    "        self.n = int(input(\"Enter the number of flowers to plant: \"))\n",
    "    \n",
    "    def canPlaceFlowers(self):\n",
    "        length = len(self.flowerbed)\n",
    "        \n",
    "        for i in range(length):\n",
    "            if self.flowerbed[i] == 0:\n",
    "                e_left = (i == 0) or (self.flowerbed[i - 1] == 0)\n",
    "                e_right = (i == length - 1) or (self.flowerbed[i + 1] == 0)\n",
    "\n",
    "                if e_left and e_right:\n",
    "                    self.flowerbed[i] = 1\n",
    "                    self.n -= 1\n",
    "\n",
    "                    if self.n == 0:\n",
    "                        return True\n",
    "\n",
    "        return self.n <= 0\n",
    "\n",
    "# Create an instance of the Solution class\n",
    "solution = Solution()\n",
    "solution.get_input()  # Get user input\n",
    "\n",
    "# Check if it's possible to plant the flowers\n",
    "result = solution.canPlaceFlowers()\n",
    "print(result)  # Print the result (True/False)\n"
   ]
  },
  {
   "cell_type": "code",
   "execution_count": null,
   "id": "7d35bdc7-3514-4802-8ff8-6935778c0cab",
   "metadata": {},
   "outputs": [],
   "source": []
  }
 ],
 "metadata": {
  "kernelspec": {
   "display_name": "Python [conda env:base] *",
   "language": "python",
   "name": "conda-base-py"
  },
  "language_info": {
   "codemirror_mode": {
    "name": "ipython",
    "version": 3
   },
   "file_extension": ".py",
   "mimetype": "text/x-python",
   "name": "python",
   "nbconvert_exporter": "python",
   "pygments_lexer": "ipython3",
   "version": "3.12.7"
  }
 },
 "nbformat": 4,
 "nbformat_minor": 5
}

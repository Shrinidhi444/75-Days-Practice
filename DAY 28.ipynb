{
 "cells": [
  {
   "cell_type": "markdown",
   "id": "eda238db-891e-49c7-8dd6-9fa7348e1d97",
   "metadata": {},
   "source": [
    "# Given a string s, reverse only all the vowels in the string and return it.\n",
    "\n",
    "The vowels are 'a', 'e', 'i', 'o', and 'u', and they can appear in both lower and upper cases, more than once.\n",
    "\n",
    " \n",
    "\n",
    "Example 1:\n",
    "\n",
    "Input: s = \"IceCreAm\"\n",
    "\n",
    "Output: \"AceCreIm\"\n",
    "\n",
    "Explanation:\n",
    "\n",
    "The vowels in s are ['I', 'e', 'e', 'A']. On reversing the vowels, s becomes \"AceCreIm\"."
   ]
  },
  {
   "cell_type": "code",
   "execution_count": 7,
   "id": "73bbb096-4bf7-4dac-8641-e86b83a6e8b2",
   "metadata": {},
   "outputs": [
    {
     "name": "stdin",
     "output_type": "stream",
     "text": [
      "Enter a string:  Shri\n"
     ]
    },
    {
     "name": "stdout",
     "output_type": "stream",
     "text": [
      "Output: Shri\n"
     ]
    }
   ],
   "source": [
    "class Solution(object):\n",
    "    def reverseVowels(self, s):\n",
    "        \"\"\"\n",
    "        :type s: str\n",
    "        :rtype: str\n",
    "        \"\"\"\n",
    "        vowels = set(\"aeiouAEIOU\")\n",
    "        s = list(s)\n",
    "        left, right = 0, len(s) - 1\n",
    "\n",
    "        while left < right:\n",
    "            if s[left] not in vowels:\n",
    "                left += 1\n",
    "            elif s[right] not in vowels:\n",
    "                right -= 1\n",
    "            else:\n",
    "                s[left], s[right] = s[right], s[left]\n",
    "                left += 1\n",
    "                right -= 1\n",
    "\n",
    "        return ''.join(s)\n",
    "\n",
    "# === Get input from user and call the function ===\n",
    "user_input = input(\"Enter a string: \")  # Use input() for Python 3\n",
    "sol = Solution()\n",
    "result = sol.reverseVowels(user_input)\n",
    "print(\"Output:\", result)\n"
   ]
  },
  {
   "cell_type": "code",
   "execution_count": 9,
   "id": "a62510de-631b-41c1-a089-5ee7e3f625fd",
   "metadata": {},
   "outputs": [
    {
     "ename": "NameError",
     "evalue": "name 'raw_input' is not defined",
     "output_type": "error",
     "traceback": [
      "\u001b[1;31m---------------------------------------------------------------------------\u001b[0m",
      "\u001b[1;31mNameError\u001b[0m                                 Traceback (most recent call last)",
      "Cell \u001b[1;32mIn[9], line 24\u001b[0m\n\u001b[0;32m     21\u001b[0m         \u001b[38;5;28;01mreturn\u001b[39;00m \u001b[38;5;124m'\u001b[39m\u001b[38;5;124m'\u001b[39m\u001b[38;5;241m.\u001b[39mjoin(s)\n\u001b[0;32m     23\u001b[0m \u001b[38;5;66;03m# === Get input from user and call the function ===\u001b[39;00m\n\u001b[1;32m---> 24\u001b[0m user_input \u001b[38;5;241m=\u001b[39m raw_input(\u001b[38;5;124m\"\u001b[39m\u001b[38;5;124mEnter a string: \u001b[39m\u001b[38;5;124m\"\u001b[39m)  \u001b[38;5;66;03m# Use raw_input for Python 2\u001b[39;00m\n\u001b[0;32m     25\u001b[0m sol \u001b[38;5;241m=\u001b[39m Solution()\n\u001b[0;32m     26\u001b[0m result \u001b[38;5;241m=\u001b[39m sol\u001b[38;5;241m.\u001b[39mreverseVowels(user_input)\n",
      "\u001b[1;31mNameError\u001b[0m: name 'raw_input' is not defined"
     ]
    }
   ],
   "source": [
    "class Solution(object):\n",
    "    def reverseVowels(self, s):\n",
    "        \"\"\"\n",
    "        :type s: str\n",
    "        :rtype: str\n",
    "        \"\"\"\n",
    "        vowels = set(\"aeiouAEIOU\")\n",
    "        s = list(s)\n",
    "        left, right = 0, len(s) - 1\n",
    "\n",
    "        while left < right:\n",
    "            if s[left] not in vowels:\n",
    "                left += 1\n",
    "            elif s[right] not in vowels:\n",
    "                right -= 1\n",
    "            else:\n",
    "                s[left], s[right] = s[right], s[left]\n",
    "                left += 1\n",
    "                right -= 1\n",
    "\n",
    "        return ''.join(s)\n",
    "\n",
    "# === Get input from user and call the function ===\n",
    "user_input = raw_input(\"Enter a string: \")  # Use raw_input for Python 2\n",
    "sol = Solution()\n",
    "result = sol.reverseVowels(user_input)\n",
    "print(\"Output:\", result)\n"
   ]
  },
  {
   "cell_type": "code",
   "execution_count": 11,
   "id": "873966dd-6d40-4ee4-9671-1be71760e8ad",
   "metadata": {},
   "outputs": [
    {
     "name": "stdin",
     "output_type": "stream",
     "text": [
      "Enter a string:  shri\n"
     ]
    },
    {
     "name": "stdout",
     "output_type": "stream",
     "text": [
      "Output: shri\n"
     ]
    }
   ],
   "source": [
    "class Solution(object):\n",
    "    def reverseVowels(self, s):\n",
    "        \"\"\"\n",
    "        :type s: str\n",
    "        :rtype: str\n",
    "        \"\"\"\n",
    "        vowels = set(\"aeiouAEIOU\")\n",
    "        s = list(s)\n",
    "        left, right = 0, len(s) - 1\n",
    "\n",
    "        while left < right:\n",
    "            if s[left] not in vowels:\n",
    "                left += 1\n",
    "            elif s[right] not in vowels:\n",
    "                right -= 1\n",
    "            else:\n",
    "                s[left], s[right] = s[right], s[left]\n",
    "                left += 1\n",
    "                right -= 1\n",
    "\n",
    "        return ''.join(s)\n",
    "\n",
    "# === Get input from user and call the function ===\n",
    "user_input = input(\"Enter a string: \")  # Correct for Python 3\n",
    "sol = Solution()\n",
    "result = sol.reverseVowels(user_input)\n",
    "print(\"Output:\", result)\n"
   ]
  },
  {
   "cell_type": "code",
   "execution_count": null,
   "id": "1e01fb6c-de32-4eb5-a616-1a8565298b37",
   "metadata": {},
   "outputs": [],
   "source": []
  }
 ],
 "metadata": {
  "kernelspec": {
   "display_name": "Python [conda env:base] *",
   "language": "python",
   "name": "conda-base-py"
  },
  "language_info": {
   "codemirror_mode": {
    "name": "ipython",
    "version": 3
   },
   "file_extension": ".py",
   "mimetype": "text/x-python",
   "name": "python",
   "nbconvert_exporter": "python",
   "pygments_lexer": "ipython3",
   "version": "3.12.7"
  }
 },
 "nbformat": 4,
 "nbformat_minor": 5
}

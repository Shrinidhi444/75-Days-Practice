{
 "cells": [
  {
   "cell_type": "markdown",
   "id": "757138e2-8d57-4ccf-b70d-18d1237da5a7",
   "metadata": {},
   "source": [
    "# Sum of Two Numbers (Encapsulation)"
   ]
  },
  {
   "cell_type": "code",
   "execution_count": 5,
   "id": "167ff790-b9fb-44bb-9b6a-f4ac0cf7c89c",
   "metadata": {},
   "outputs": [
    {
     "ename": "NameError",
     "evalue": "name 'num1' is not defined",
     "output_type": "error",
     "traceback": [
      "\u001b[1;31m---------------------------------------------------------------------------\u001b[0m",
      "\u001b[1;31mNameError\u001b[0m                                 Traceback (most recent call last)",
      "Cell \u001b[1;32mIn[5], line 10\u001b[0m\n\u001b[0;32m      8\u001b[0m     num1\u001b[38;5;241m=\u001b[39mFirstno()\n\u001b[0;32m      9\u001b[0m     num2\u001b[38;5;241m=\u001b[39mSecondno()\n\u001b[1;32m---> 10\u001b[0m \u001b[38;5;28mprint\u001b[39m(\u001b[38;5;124m\"\u001b[39m\u001b[38;5;124mSum of Two Numbers is:\u001b[39m\u001b[38;5;124m\"\u001b[39m,num1\u001b[38;5;241m+\u001b[39mnum2)\n\u001b[0;32m     13\u001b[0m cal_Sum()\n",
      "\u001b[1;31mNameError\u001b[0m: name 'num1' is not defined"
     ]
    }
   ],
   "source": [
    "\n",
    "def Firstno():\n",
    "    return int(input(\"Enter First no:\"))\n",
    "\n",
    "def Secondno():\n",
    "    return int(input(\"Enter Second no:\"))\n",
    "\n",
    "def Cal_Sum():\n",
    "    num1=Firstno()\n",
    "    num2=Secondno()\n",
    "print(\"Sum of Two Numbers is:\",num1+num2)\n",
    "\n",
    "\n",
    "cal_Sum()  "
   ]
  },
  {
   "cell_type": "code",
   "execution_count": null,
   "id": "d4980a84-047e-4394-954d-8e417675a04c",
   "metadata": {},
   "outputs": [],
   "source": []
  },
  {
   "cell_type": "code",
   "execution_count": null,
   "id": "27970d34-189c-4cac-a1f2-836175251707",
   "metadata": {},
   "outputs": [],
   "source": []
  }
 ],
 "metadata": {
  "kernelspec": {
   "display_name": "Python [conda env:base] *",
   "language": "python",
   "name": "conda-base-py"
  },
  "language_info": {
   "codemirror_mode": {
    "name": "ipython",
    "version": 3
   },
   "file_extension": ".py",
   "mimetype": "text/x-python",
   "name": "python",
   "nbconvert_exporter": "python",
   "pygments_lexer": "ipython3",
   "version": "3.12.7"
  }
 },
 "nbformat": 4,
 "nbformat_minor": 5
}

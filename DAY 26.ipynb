{
 "cells": [
  {
   "cell_type": "markdown",
   "id": "ffe51e1c-c615-4af8-a13c-172a613089c9",
   "metadata": {},
   "source": [
    "# Greatest Common Divisor (GCD) of two strings based on the idea of \"dividing by repetition\"."
   ]
  },
  {
   "cell_type": "code",
   "execution_count": 13,
   "id": "fa1ac04d-8258-4431-b76c-93e53bf1af6a",
   "metadata": {},
   "outputs": [
    {
     "name": "stdin",
     "output_type": "stream",
     "text": [
      "Enter str1: asdff\n",
      "Enter str2: asd\n"
     ]
    },
    {
     "name": "stdout",
     "output_type": "stream",
     "text": [
      "GCD: \n"
     ]
    }
   ],
   "source": [
    "import math\n",
    "class Solution(object):\n",
    "    def gcdofstr(self,str1,str2):\n",
    "        if str1+str2 != str2+str1:\n",
    "            return \"\"\n",
    "\n",
    "        def gcd(a,b):\n",
    "            a,b=b,a%b\n",
    "        return a\n",
    "\n",
    "        gcd_string=math.gcd(len(str1),len(str2)) # math.gcd performs mathematica operation\n",
    "        return str1[:gcd_string]\n",
    "\n",
    "str1=input(\"Enter str1:\")\n",
    "str2=input(\"Enter str2:\")\n",
    "sol = Solution()\n",
    "result = sol.gcdofstr(str1,str2)\n",
    "print(\"GCD:\",result)      "
   ]
  },
  {
   "cell_type": "code",
   "execution_count": null,
   "id": "c863fdc7-86b1-4ced-a700-cdef264e3ebe",
   "metadata": {},
   "outputs": [],
   "source": [
    ")"
   ]
  }
 ],
 "metadata": {
  "kernelspec": {
   "display_name": "Python [conda env:base] *",
   "language": "python",
   "name": "conda-base-py"
  },
  "language_info": {
   "codemirror_mode": {
    "name": "ipython",
    "version": 3
   },
   "file_extension": ".py",
   "mimetype": "text/x-python",
   "name": "python",
   "nbconvert_exporter": "python",
   "pygments_lexer": "ipython3",
   "version": "3.12.7"
  }
 },
 "nbformat": 4,
 "nbformat_minor": 5
}

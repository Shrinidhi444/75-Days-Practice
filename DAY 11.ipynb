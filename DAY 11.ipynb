{
 "cells": [
  {
   "cell_type": "code",
   "execution_count": 3,
   "id": "f55194f3-8df5-44ea-843f-d54d88dbf984",
   "metadata": {},
   "outputs": [
    {
     "name": "stdout",
     "output_type": "stream",
     "text": [
      "\n",
      "To-Do List Options:\n",
      "1. View Tasks\n",
      "2. Add Task\n",
      "3. Remove Task\n",
      "4. Exit\n"
     ]
    },
    {
     "name": "stdin",
     "output_type": "stream",
     "text": [
      "Enter your choice:  1\n"
     ]
    },
    {
     "name": "stdout",
     "output_type": "stream",
     "text": [
      "No tasks found!\n",
      "\n",
      "To-Do List Options:\n",
      "1. View Tasks\n",
      "2. Add Task\n",
      "3. Remove Task\n",
      "4. Exit\n"
     ]
    },
    {
     "name": "stdin",
     "output_type": "stream",
     "text": [
      "Enter your choice:  2\n",
      "Enter the task:  READING\n"
     ]
    },
    {
     "name": "stdout",
     "output_type": "stream",
     "text": [
      "Task \"READING\" added successfully!\n",
      "\n",
      "To-Do List Options:\n",
      "1. View Tasks\n",
      "2. Add Task\n",
      "3. Remove Task\n",
      "4. Exit\n"
     ]
    },
    {
     "name": "stdin",
     "output_type": "stream",
     "text": [
      "Enter your choice:  1\n"
     ]
    },
    {
     "name": "stdout",
     "output_type": "stream",
     "text": [
      "\n",
      "Your To-Do List:\n",
      "1. READING\n",
      "\n",
      "\n",
      "To-Do List Options:\n",
      "1. View Tasks\n",
      "2. Add Task\n",
      "3. Remove Task\n",
      "4. Exit\n"
     ]
    },
    {
     "name": "stdin",
     "output_type": "stream",
     "text": [
      "Enter your choice:  3\n"
     ]
    },
    {
     "name": "stdout",
     "output_type": "stream",
     "text": [
      "\n",
      "Your To-Do List:\n",
      "1. READING\n",
      "\n"
     ]
    },
    {
     "name": "stdin",
     "output_type": "stream",
     "text": [
      "Enter task number to remove:  1\n"
     ]
    },
    {
     "name": "stdout",
     "output_type": "stream",
     "text": [
      "Task \"READING\" removed successfully!\n",
      "\n",
      "To-Do List Options:\n",
      "1. View Tasks\n",
      "2. Add Task\n",
      "3. Remove Task\n",
      "4. Exit\n"
     ]
    },
    {
     "name": "stdin",
     "output_type": "stream",
     "text": [
      "Enter your choice:  4\n"
     ]
    },
    {
     "name": "stdout",
     "output_type": "stream",
     "text": [
      "Goodbye!\n"
     ]
    }
   ],
   "source": [
    "import os\n",
    "\n",
    "TODO_FILE = \"todo.txt\"\n",
    "\n",
    "def load_tasks():\n",
    "    \"\"\"Load tasks from a file into a list.\"\"\"\n",
    "    if not os.path.exists(TODO_FILE):\n",
    "        return []\n",
    "    with open(TODO_FILE, \"r\") as file:\n",
    "        return [line.strip() for line in file.readlines()]\n",
    "\n",
    "def save_tasks(tasks):\n",
    "    \"\"\"Save tasks to a file.\"\"\"\n",
    "    with open(TODO_FILE, \"w\") as file:\n",
    "        file.writelines(\"\\n\".join(tasks) + \"\\n\")\n",
    "\n",
    "def show_tasks(tasks):\n",
    "    \"\"\"Display tasks.\"\"\"\n",
    "    if not tasks:\n",
    "        print(\"No tasks found!\")\n",
    "        return\n",
    "    print(\"\\nYour To-Do List:\")\n",
    "    for i, task in enumerate(tasks, start=1):\n",
    "        print(f\"{i}. {task}\")\n",
    "    print(\"\")\n",
    "\n",
    "def add_task(task):\n",
    "    \"\"\"Add a task to the list.\"\"\"\n",
    "    tasks = load_tasks()\n",
    "    tasks.append(task)\n",
    "    save_tasks(tasks)\n",
    "    print(f'Task \"{task}\" added successfully!')\n",
    "\n",
    "def remove_task(task_number):\n",
    "    \"\"\"Remove a task by its number.\"\"\"\n",
    "    tasks = load_tasks()\n",
    "    if 1 <= task_number <= len(tasks):\n",
    "        removed_task = tasks.pop(task_number - 1)\n",
    "        save_tasks(tasks)\n",
    "        print(f'Task \"{removed_task}\" removed successfully!')\n",
    "    else:\n",
    "        print(\"Invalid task number!\")\n",
    "\n",
    "def main():\n",
    "    \"\"\"Main menu for the CLI To-Do List.\"\"\"\n",
    "    while True:\n",
    "        print(\"\\nTo-Do List Options:\")\n",
    "        print(\"1. View Tasks\")\n",
    "        print(\"2. Add Task\")\n",
    "        print(\"3. Remove Task\")\n",
    "        print(\"4. Exit\")\n",
    "\n",
    "        choice = input(\"Enter your choice: \")  # Changed raw_input() to input()\n",
    "        if choice == \"1\":\n",
    "            show_tasks(load_tasks())\n",
    "        elif choice == \"2\":\n",
    "            task = input(\"Enter the task: \")  # Changed raw_input() to input()\n",
    "            add_task(task)\n",
    "        elif choice == \"3\":\n",
    "            show_tasks(load_tasks())\n",
    "            try:\n",
    "                task_num = int(input(\"Enter task number to remove: \"))  # Changed raw_input() to input()\n",
    "                remove_task(task_num)\n",
    "            except ValueError:\n",
    "                print(\"Invalid input! Please enter a number.\")\n",
    "        elif choice == \"4\":\n",
    "            print(\"Goodbye!\")\n",
    "            break\n",
    "        else:\n",
    "            print(\"Invalid choice, please try again.\")\n",
    "\n",
    "if __name__ == \"__main__\":\n",
    "    main()\n"
   ]
  },
  {
   "cell_type": "code",
   "execution_count": null,
   "id": "48ccdb79-c90a-4a83-b05e-3c97148a8123",
   "metadata": {},
   "outputs": [],
   "source": []
  }
 ],
 "metadata": {
  "kernelspec": {
   "display_name": "Python [conda env:base] *",
   "language": "python",
   "name": "conda-base-py"
  },
  "language_info": {
   "codemirror_mode": {
    "name": "ipython",
    "version": 3
   },
   "file_extension": ".py",
   "mimetype": "text/x-python",
   "name": "python",
   "nbconvert_exporter": "python",
   "pygments_lexer": "ipython3",
   "version": "3.12.7"
  }
 },
 "nbformat": 4,
 "nbformat_minor": 5
}

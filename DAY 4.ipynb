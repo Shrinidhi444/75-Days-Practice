{
 "cells": [
  {
   "cell_type": "markdown",
   "id": "46022253-20c3-4123-becb-683a1a3f50da",
   "metadata": {},
   "source": [
    "# 1. Check if a Number is an Armstrong Number"
   ]
  },
  {
   "cell_type": "code",
   "execution_count": 8,
   "id": "726b89b2-4c0c-48b0-aeb1-371292b2a46b",
   "metadata": {},
   "outputs": [
    {
     "name": "stdin",
     "output_type": "stream",
     "text": [
      "Enter a number:  153\n"
     ]
    },
    {
     "name": "stdout",
     "output_type": "stream",
     "text": [
      "Armstrong Number: True\n"
     ]
    }
   ],
   "source": [
    "n = int(input(\"Enter a number: \"))  # Use input() instead of raw_input()\n",
    "num_str = str(n)\n",
    "num_digits = len(num_str)\n",
    "sum_of_powers = sum(int(digit) ** num_digits for digit in num_str)\n",
    "print(\"Armstrong Number:\", sum_of_powers == n)"
   ]
  },
  {
   "cell_type": "markdown",
   "id": "61400c65-7deb-405a-923c-8f6b7760c257",
   "metadata": {},
   "source": [
    "# 2. Find the Sum of Digits of a Given Number"
   ]
  },
  {
   "cell_type": "code",
   "execution_count": 14,
   "id": "5a4fe5c9-c361-4bea-882d-1dd26d2475bc",
   "metadata": {},
   "outputs": [
    {
     "ename": "SyntaxError",
     "evalue": "Missing parentheses in call to 'print'. Did you mean print(...)? (2928324217.py, line 2)",
     "output_type": "error",
     "traceback": [
      "\u001b[1;36m  Cell \u001b[1;32mIn[14], line 2\u001b[1;36m\u001b[0m\n\u001b[1;33m    print \"Sum of digits:\", sum(int(digit) for digit in str(abs(n)))\u001b[0m\n\u001b[1;37m    ^\u001b[0m\n\u001b[1;31mSyntaxError\u001b[0m\u001b[1;31m:\u001b[0m Missing parentheses in call to 'print'. Did you mean print(...)?\n"
     ]
    }
   ],
   "source": [
    "n = int(raw_input(\"Enter a number: \"))\n",
    "print \"Sum of digits:\", sum(int(digit) for digit in str(abs(n)))"
   ]
  },
  {
   "cell_type": "code",
   "execution_count": null,
   "id": "8d94e248-5aa4-411b-83b6-30c03caa1108",
   "metadata": {},
   "outputs": [],
   "source": []
  }
 ],
 "metadata": {
  "kernelspec": {
   "display_name": "Python [conda env:base] *",
   "language": "python",
   "name": "conda-base-py"
  },
  "language_info": {
   "codemirror_mode": {
    "name": "ipython",
    "version": 3
   },
   "file_extension": ".py",
   "mimetype": "text/x-python",
   "name": "python",
   "nbconvert_exporter": "python",
   "pygments_lexer": "ipython3",
   "version": "3.12.7"
  }
 },
 "nbformat": 4,
 "nbformat_minor": 5
}

{
 "cells": [
  {
   "cell_type": "markdown",
   "id": "b8abcf63-5174-4a9a-8dbe-0de6cc95599a",
   "metadata": {},
   "source": [
    "# You are given two strings word1 and word2. Merge the strings by adding letters in alternating order, starting with word1. If a string is longer than the other, append the additional letters onto the end of the merged string.\n",
    "\n",
    "Return the merged string.\n",
    "\n",
    " \n",
    "\n",
    "Example 1:\n",
    "\n",
    "Input: word1 = \"abc\", word2 = \"pqr\"\n",
    "Output: \"apbqcr\"\n",
    "Explanation: The merged string will be merged as so:\n",
    "word1:  a   b   c\n",
    "word2:    p   q   r\n",
    "merged: a p b q c r\n",
    "Example 2:\n",
    "\n",
    "Input: word1 = \"ab\", word2 = \"pqrs\"\n",
    "Output: \"apbqrs\"\n",
    "Explanation: Notice that as word2 is longer, \"rs\" is appended to the end.\n",
    "word1:  a   b \n",
    "word2:    p   q   r   s\n",
    "merged: a p b q   r   s\n",
    "Example 3:\n",
    "\n",
    "Input: word1 = \"abcd\", word2 = \"pq\"\n",
    "Output: \"apbqcd\"\n",
    "Explanation: Notice that as word1 is longer, \"cd\" is appended to the end.\n",
    "word1:  a   b   c   d\n",
    "word2:    p   q \n",
    "merged: a p b q c   d"
   ]
  },
  {
   "cell_type": "code",
   "execution_count": 9,
   "id": "dae4ffbc-8ed3-49aa-9339-8497f71e363e",
   "metadata": {},
   "outputs": [
    {
     "name": "stdin",
     "output_type": "stream",
     "text": [
      "Enter word1: qwe\n",
      "Enter word2: asdf\n"
     ]
    },
    {
     "name": "stdout",
     "output_type": "stream",
     "text": [
      "Merged String: qwef\n"
     ]
    }
   ],
   "source": [
    "class Solution(object):\n",
    "    def Alter(self,word1,word2):\n",
    "        merge_string=[]\n",
    "        len1,len2=len(word1),len(word2)\n",
    "        for i in range(max(len1,len2)):\n",
    "            if i < len1:\n",
    "                merge_string.append(word1[i])\n",
    "            elif i < len2:\n",
    "                merge_string.append(word2[i])\n",
    "        return \"\".join(merge_string)\n",
    "\n",
    "\n",
    "if __name__==\"__main__\":\n",
    "    word1=input(\"Enter word1:\")\n",
    "    word2=input(\"Enter word2:\")\n",
    "\n",
    "    sol = Solution()\n",
    "    result=sol.Alter(word1,word2)\n",
    "    print(\"Merged String:\",result)\n",
    "    "
   ]
  },
  {
   "cell_type": "code",
   "execution_count": 11,
   "id": "3b30faf0-4edf-47cb-a6dc-cefdff337d16",
   "metadata": {},
   "outputs": [
    {
     "name": "stdin",
     "output_type": "stream",
     "text": [
      "Enter word1: qwe\n",
      "Enter word2: asdf\n"
     ]
    },
    {
     "name": "stdout",
     "output_type": "stream",
     "text": [
      "Merged String: qawsedf\n"
     ]
    }
   ],
   "source": [
    "class Solution(object):\n",
    "    def Alter(self, word1, word2):\n",
    "        merge_string = []\n",
    "        len1, len2 = len(word1), len(word2)\n",
    "        for i in range(max(len1, len2)):\n",
    "            if i < len1:\n",
    "                merge_string.append(word1[i])\n",
    "            if i < len2:\n",
    "                merge_string.append(word2[i])\n",
    "        return \"\".join(merge_string)\n",
    "\n",
    "if __name__ == \"__main__\":\n",
    "    word1 = input(\"Enter word1:\")\n",
    "    word2 = input(\"Enter word2:\")\n",
    "    \n",
    "    sol = Solution()\n",
    "    result = sol.Alter(word1, word2)\n",
    "    print(\"Merged String:\", result)\n"
   ]
  },
  {
   "cell_type": "code",
   "execution_count": null,
   "id": "4fb09e52-d4d1-4a0b-b67a-be0fb30ce0b0",
   "metadata": {},
   "outputs": [],
   "source": []
  }
 ],
 "metadata": {
  "kernelspec": {
   "display_name": "Python [conda env:base] *",
   "language": "python",
   "name": "conda-base-py"
  },
  "language_info": {
   "codemirror_mode": {
    "name": "ipython",
    "version": 3
   },
   "file_extension": ".py",
   "mimetype": "text/x-python",
   "name": "python",
   "nbconvert_exporter": "python",
   "pygments_lexer": "ipython3",
   "version": "3.12.7"
  }
 },
 "nbformat": 4,
 "nbformat_minor": 5
}

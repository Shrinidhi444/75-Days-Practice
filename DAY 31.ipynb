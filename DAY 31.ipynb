{
 "cells": [
  {
   "cell_type": "markdown",
   "id": "53d5ed19-0c32-45da-86af-307d8f25e319",
   "metadata": {},
   "source": [
    "# Product of array except self\n",
    "Given an integer array nums, return an array answer such that answer[i] is equal to the product of all the elements of nums except nums[i].\n",
    "\n",
    "The product of any prefix or suffix of nums is guaranteed to fit in a 32-bit integer.\n",
    "\n",
    "You must write an algorithm that runs in O(n) time and without using the division operation.\n",
    "\n",
    " \n",
    "\n",
    "Example 1:\n",
    "\n",
    "Input: nums = [1,2,3,4]\n",
    "Output: [24,12,8,6]\n",
    "\n",
    "Example 2:\n",
    "\n",
    "Input: nums = [-1,1,0,-3,3]\n",
    "Output: [0,0,9,0,0]\n",
    " "
   ]
  },
  {
   "cell_type": "code",
   "execution_count": 11,
   "id": "f01ce5c3-e5f3-47bf-ac2b-0a5809d769c6",
   "metadata": {},
   "outputs": [
    {
     "name": "stdin",
     "output_type": "stream",
     "text": [
      "Enter numbers separated by spaces:  1 2 3\n"
     ]
    },
    {
     "name": "stdout",
     "output_type": "stream",
     "text": [
      "Output: [6, 3, 2]\n"
     ]
    }
   ],
   "source": [
    "class Sol(object):\n",
    "    def pro(self, nums):\n",
    "        length = len(nums)\n",
    "        answer = [1] * length  # Fixed this line\n",
    "\n",
    "        left_pro = 1\n",
    "        for i in range(length):\n",
    "            answer[i] = left_pro\n",
    "            left_pro *= nums[i]\n",
    "\n",
    "        right_pro = 1\n",
    "        for i in range(length - 1, -1, -1):\n",
    "            answer[i] *= right_pro\n",
    "            right_pro *= nums[i]\n",
    "\n",
    "        return answer\n",
    "\n",
    "# Input handling\n",
    "inputstr = input(\"Enter numbers separated by spaces: \")\n",
    "nums = list(map(int, inputstr.strip().replace(',', ' ').split()))\n",
    "\n",
    "# Object creation and method call\n",
    "sol = Sol()\n",
    "result = sol.pro(nums)\n",
    "\n",
    "print(\"Output:\", result)\n"
   ]
  },
  {
   "cell_type": "code",
   "execution_count": 23,
   "id": "1d154df7-54b0-4350-bb15-87af8f3215b5",
   "metadata": {},
   "outputs": [
    {
     "name": "stdin",
     "output_type": "stream",
     "text": [
      "Enter String: 1 2\n"
     ]
    },
    {
     "name": "stdout",
     "output_type": "stream",
     "text": [
      "Oup: [2, 1]\n"
     ]
    }
   ],
   "source": [
    "class Shri(object):\n",
    "    def Sh(self,nos):\n",
    "        leng = len(nos)\n",
    "        ans = [1] * leng\n",
    "\n",
    "        leftside = 1\n",
    "        for i in range(leng):\n",
    "            ans[i] = leftside\n",
    "            leftside *= nos[i]\n",
    "\n",
    "        rightside = 1\n",
    "        for i in range(leng -1,-1,-1):\n",
    "            ans[i] *= rightside\n",
    "            rightside *= nos[i]\n",
    "\n",
    "        return ans\n",
    "\n",
    "\n",
    "instr = input(\"Enter String:\")\n",
    "nos = list(map(int , instr.strip().replace(',',' ').split()))\n",
    "\n",
    "slu = Shri()\n",
    "re = slu.Sh(nos)\n",
    "\n",
    "print(\"Oup:\",re)"
   ]
  },
  {
   "cell_type": "code",
   "execution_count": null,
   "id": "98ae4631-a7d4-4d47-80b1-e836680a7df2",
   "metadata": {},
   "outputs": [],
   "source": [
    "class Shri(object): # creating a class with an object\n",
    "    def Sh(self,nums): # created a function with two attributes self and numbers\n",
    "        lenth = len(nums) # to know the length of the list\n",
    "        answer = [1] * lenth # any no can be multiplied by 1 gives an optimal soln\n",
    "\n",
    "        left = 1 # to multiply the left elements\n",
    "        for i in range(lenth): # i iterates up to the length of num\n",
    "            answer[i] = left # if i=1 then the no left is equal to 1\n",
    "            left *= num[i] # left no is multiplied with the no at i\n",
    "\n",
    "        # same for right \n",
    "        right = 1\n",
    "        for i in range(lenth-1,-1,-1):\n",
    "            answer[i] *= right # multiplies every element present and stores in right\n",
    "            right *= nums[i]\n",
    "\n",
    "        return answer\n",
    "\n",
    "inpt = input(\"Enter:\")\n",
    "nums = list(map(int,inpt.strip().split()))\n",
    "\n",
    "sul = Shri()\n",
    "res = sul.Sh(nums)\n",
    "\n",
    "print(\"Output:\"\n"
   ]
  }
 ],
 "metadata": {
  "kernelspec": {
   "display_name": "Python [conda env:base] *",
   "language": "python",
   "name": "conda-base-py"
  },
  "language_info": {
   "codemirror_mode": {
    "name": "ipython",
    "version": 3
   },
   "file_extension": ".py",
   "mimetype": "text/x-python",
   "name": "python",
   "nbconvert_exporter": "python",
   "pygments_lexer": "ipython3",
   "version": "3.12.7"
  }
 },
 "nbformat": 4,
 "nbformat_minor": 5
}

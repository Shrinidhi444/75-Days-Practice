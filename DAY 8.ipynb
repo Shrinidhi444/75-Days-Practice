{
 "cells": [
  {
   "cell_type": "markdown",
   "id": "aa3805fd-d2eb-4cb5-8821-153588f08e4f",
   "metadata": {},
   "source": [
    "#  Reverse the string"
   ]
  },
  {
   "cell_type": "code",
   "execution_count": 24,
   "id": "a14630c9-fef4-4425-aca7-b6c57b4d1f6e",
   "metadata": {},
   "outputs": [
    {
     "name": "stdin",
     "output_type": "stream",
     "text": [
      "Enter a String to reverse shri\n"
     ]
    },
    {
     "ename": "IndexError",
     "evalue": "list index out of range",
     "output_type": "error",
     "traceback": [
      "\u001b[1;31m---------------------------------------------------------------------------\u001b[0m",
      "\u001b[1;31mIndexError\u001b[0m                                Traceback (most recent call last)",
      "Cell \u001b[1;32mIn[24], line 4\u001b[0m\n\u001b[0;32m      2\u001b[0m a\u001b[38;5;241m=\u001b[39m[]\n\u001b[0;32m      3\u001b[0m \u001b[38;5;28;01mfor\u001b[39;00m i \u001b[38;5;129;01min\u001b[39;00m \u001b[38;5;28mrange\u001b[39m(\u001b[38;5;28mlen\u001b[39m(n)\u001b[38;5;241m-\u001b[39m\u001b[38;5;241m1\u001b[39m,\u001b[38;5;241m-\u001b[39m\u001b[38;5;241m1\u001b[39m,\u001b[38;5;241m-\u001b[39m\u001b[38;5;241m1\u001b[39m):\n\u001b[1;32m----> 4\u001b[0m     a\u001b[38;5;241m.\u001b[39mappend(a[i])\n\u001b[0;32m      7\u001b[0m rev_str\u001b[38;5;241m=\u001b[39m\u001b[38;5;124m\"\u001b[39m\u001b[38;5;124m\"\u001b[39m\u001b[38;5;241m.\u001b[39mjoin(a)\n\u001b[0;32m      8\u001b[0m \u001b[38;5;28mprint\u001b[39m(\u001b[38;5;124m\"\u001b[39m\u001b[38;5;124mReversed string:\u001b[39m\u001b[38;5;124m\"\u001b[39m,rev_str)\n",
      "\u001b[1;31mIndexError\u001b[0m: list index out of range"
     ]
    }
   ],
   "source": [
    "# n = input(\"Enter a String to reverse\")\n",
    "# a=[]\n",
    "# for i in range(len(n)-1,-1,-1):\n",
    "#     a.append(a[i])\n",
    "\n",
    "\n",
    "# rev_str=\"\".join(a)\n",
    "# print(\"Reversed string:\",rev_str)"
   ]
  },
  {
   "cell_type": "code",
   "execution_count": 26,
   "id": "c6a7d91c-0656-4111-9a37-a1f0a90ccb40",
   "metadata": {},
   "outputs": [
    {
     "name": "stdin",
     "output_type": "stream",
     "text": [
      "Enter a String to reverse shri\n"
     ]
    },
    {
     "name": "stdout",
     "output_type": "stream",
     "text": [
      "reversed string: irhs\n"
     ]
    }
   ],
   "source": [
    "n = input(\"Enter a String to reverse\")\n",
    "print(\"reversed string:\",n[::-1])"
   ]
  },
  {
   "cell_type": "markdown",
   "id": "7da887f7-b47b-40fa-83f5-c674e661c3b3",
   "metadata": {},
   "source": [
    "# palindrome"
   ]
  },
  {
   "cell_type": "code",
   "execution_count": 31,
   "id": "c4c15989-1135-45a3-9806-88a03614c9f8",
   "metadata": {},
   "outputs": [
    {
     "name": "stdin",
     "output_type": "stream",
     "text": [
      "enter: 121\n"
     ]
    },
    {
     "name": "stdout",
     "output_type": "stream",
     "text": [
      "pali: True\n"
     ]
    }
   ],
   "source": [
    "def pali(s):\n",
    "    return s == s[::-1]\n",
    "\n",
    "s=input(\"enter:\")\n",
    "print(\"pali:\",pali(s))"
   ]
  },
  {
   "cell_type": "markdown",
   "id": "ed166df2-c78b-48a4-a246-27276c1b2f66",
   "metadata": {},
   "source": [
    "# Sum of digits"
   ]
  },
  {
   "cell_type": "code",
   "execution_count": 36,
   "id": "fcb19798-d27c-4894-aca6-979f809f9882",
   "metadata": {},
   "outputs": [
    {
     "name": "stdin",
     "output_type": "stream",
     "text": [
      "Enter the digits: 123\n"
     ]
    },
    {
     "name": "stdout",
     "output_type": "stream",
     "text": [
      "6\n"
     ]
    }
   ],
   "source": [
    "num = int(input(\"Enter the digits:\"))\n",
    "print(sum(int(digits) for digits  in str(num)))"
   ]
  },
  {
   "cell_type": "code",
   "execution_count": 38,
   "id": "bc2c34f0-8e2a-4a29-af3d-59f0e38219dd",
   "metadata": {},
   "outputs": [
    {
     "name": "stdin",
     "output_type": "stream",
     "text": [
      "Enter no: 345\n"
     ]
    },
    {
     "name": "stdout",
     "output_type": "stream",
     "text": [
      "12\n"
     ]
    }
   ],
   "source": [
    "nu = int(input(\"Enter no:\"))\n",
    "print(sum(int(digits) for digits in str(nu)))"
   ]
  },
  {
   "cell_type": "markdown",
   "id": "37cba9d4-59bc-4d33-be68-f731e98ff2dd",
   "metadata": {},
   "source": [
    "#  Count Vowels in a String"
   ]
  },
  {
   "cell_type": "code",
   "execution_count": 47,
   "id": "fc8688a0-373b-45cc-8c08-11d8d85eb111",
   "metadata": {},
   "outputs": [
    {
     "name": "stdin",
     "output_type": "stream",
     "text": [
      "Enter a string:  shri\n"
     ]
    },
    {
     "name": "stdout",
     "output_type": "stream",
     "text": [
      "Number of vowels: 1\n"
     ]
    }
   ],
   "source": [
    "def vow(st):\n",
    "    return sum(1 for ch in st.lower() if ch in \"aeiou\")\n",
    "\n",
    "st = input(\"Enter a string: \") \n",
    "print(\"Number of vowels:\", vow(st))  "
   ]
  },
  {
   "cell_type": "markdown",
   "id": "1cd58475-1418-4d4a-97c2-10a90e036717",
   "metadata": {},
   "source": [
    "# min max from list"
   ]
  },
  {
   "cell_type": "code",
   "execution_count": 54,
   "id": "10800e6e-4a21-456f-9af5-2295ca09e2d6",
   "metadata": {},
   "outputs": [
    {
     "name": "stdin",
     "output_type": "stream",
     "text": [
      "Enter no separated by spaces: 1 2 5 7 9\n"
     ]
    },
    {
     "name": "stdout",
     "output_type": "stream",
     "text": [
      "Min and max is: (1, 9)\n"
     ]
    }
   ],
   "source": [
    "def minmax(l):\n",
    "    return min(l),max(l)\n",
    "\n",
    "l=list(map(int,input(\"Enter no separated by spaces:\").split()))\n",
    "print(\"Min and max is:\",minmax(l))"
   ]
  },
  {
   "cell_type": "code",
   "execution_count": null,
   "id": "0cf943f6-41a7-4e7b-ae61-5948b0f7ff24",
   "metadata": {},
   "outputs": [],
   "source": []
  }
 ],
 "metadata": {
  "kernelspec": {
   "display_name": "Python [conda env:base] *",
   "language": "python",
   "name": "conda-base-py"
  },
  "language_info": {
   "codemirror_mode": {
    "name": "ipython",
    "version": 3
   },
   "file_extension": ".py",
   "mimetype": "text/x-python",
   "name": "python",
   "nbconvert_exporter": "python",
   "pygments_lexer": "ipython3",
   "version": "3.12.7"
  }
 },
 "nbformat": 4,
 "nbformat_minor": 5
}

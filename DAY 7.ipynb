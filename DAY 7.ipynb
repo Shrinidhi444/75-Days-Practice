{
 "cells": [
  {
   "cell_type": "code",
   "execution_count": null,
   "id": "633ad66c-f301-4b1b-ba19-12b2f8fe8e36",
   "metadata": {},
   "outputs": [],
   "source": []
  },
  {
   "cell_type": "code",
   "execution_count": null,
   "id": "89ae2dd0-88b0-4a66-ac27-659d0d0b47e1",
   "metadata": {},
   "outputs": [
    {
     "name": "stdout",
     "output_type": "stream",
     "text": [
      "0 0 0 | 0 0 0 | 0 0 0 \n",
      "0 0 0 | 0 0 0 | 0 0 0 \n",
      "0 0 0 | 0 0 0 | 0 0 0 \n",
      "- - - - - - - - - - -\n",
      "0 0 0 | 0 0 0 | 0 0 0 \n",
      "0 0 0 | 0 0 0 | 0 0 0 \n",
      "0 0 0 | 0 0 0 | 0 0 0 \n",
      "- - - - - - - - - - -\n",
      "0 0 0 | 0 0 0 | 0 0 0 \n",
      "0 0 0 | 0 0 0 | 0 0 0 \n",
      "0 0 0 | 0 0 0 | 0 0 0 \n"
     ]
    },
    {
     "name": "stdin",
     "output_type": "stream",
     "text": [
      "Enter row (0-8):  1\n",
      "Enter col (0-8):  4\n",
      "Enter number (1-9):  6\n"
     ]
    },
    {
     "name": "stdout",
     "output_type": "stream",
     "text": [
      "0 0 0 | 0 0 0 | 0 0 0 \n",
      "0 0 0 | 0 6 0 | 0 0 0 \n",
      "0 0 0 | 0 0 0 | 0 0 0 \n",
      "- - - - - - - - - - -\n",
      "0 0 0 | 0 0 0 | 0 0 0 \n",
      "0 0 0 | 0 0 0 | 0 0 0 \n",
      "0 0 0 | 0 0 0 | 0 0 0 \n",
      "- - - - - - - - - - -\n",
      "0 0 0 | 0 0 0 | 0 0 0 \n",
      "0 0 0 | 0 0 0 | 0 0 0 \n",
      "0 0 0 | 0 0 0 | 0 0 0 \n"
     ]
    }
   ],
   "source": [
    "import numpy as np\n",
    "\n",
    "def print_board(board):\n",
    "    for i in range(9):\n",
    "        if i % 3 == 0 and i != 0:\n",
    "            print(\"- - - - - - - - - - -\")\n",
    "        for j in range(9):\n",
    "            if j % 3 == 0 and j != 0:\n",
    "                print(\"|\", end=\" \")\n",
    "            print(board[i][j], end=\" \")\n",
    "        print()\n",
    "\n",
    "def is_valid_move(board, row, col, num):\n",
    "    if num in board[row]:\n",
    "        return False\n",
    "    if num in board[:, col]:\n",
    "        return False\n",
    "    box_x, box_y = row // 3 * 3, col // 3 * 3\n",
    "    if num in board[box_x:box_x+3, box_y:box_y+3]:\n",
    "        return False\n",
    "    return True\n",
    "\n",
    "def main():\n",
    "    board = np.zeros((9, 9), dtype=int)\n",
    "    while True:\n",
    "        print_board(board)\n",
    "        row = int(input(\"Enter row (0-8): \"))\n",
    "        col = int(input(\"Enter col (0-8): \"))\n",
    "        num = int(input(\"Enter number (1-9): \"))\n",
    "        if is_valid_move(board, row, col, num):\n",
    "            board[row][col] = num\n",
    "        else:\n",
    "            print(\"Invalid move, try again!\")\n",
    "\n",
    "if __name__ == \"__main__\":\n",
    "    main()\n"
   ]
  },
  {
   "cell_type": "code",
   "execution_count": null,
   "id": "068fddcf-5ee4-4f2b-a8b8-74fdd87babbe",
   "metadata": {},
   "outputs": [],
   "source": []
  }
 ],
 "metadata": {
  "kernelspec": {
   "display_name": "Python [conda env:base] *",
   "language": "python",
   "name": "conda-base-py"
  },
  "language_info": {
   "codemirror_mode": {
    "name": "ipython",
    "version": 3
   },
   "file_extension": ".py",
   "mimetype": "text/x-python",
   "name": "python",
   "nbconvert_exporter": "python",
   "pygments_lexer": "ipython3",
   "version": "3.12.7"
  }
 },
 "nbformat": 4,
 "nbformat_minor": 5
}

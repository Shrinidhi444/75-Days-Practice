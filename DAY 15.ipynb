{
 "cells": [
  {
   "cell_type": "markdown",
   "id": "25b7266a-3120-4dec-80ad-89404bed5572",
   "metadata": {},
   "source": [
    "# Problem Statement: Movie Ticket Sales Analysis\n",
    "A movie theater tracks ticket sales for different movies. Each ticket contains details such as:\n",
    "\n",
    "Movie Name\n",
    "Ticket Price\n",
    "Show Time\n",
    "Number of Tickets Sold\n",
    "Task:\n",
    "Write a Python program that:\n",
    "\n",
    "Takes input for multiple movie ticket sales.\n",
    "Calculates total revenue generated for each movie.\n",
    "Identifies the highest-grossing movie.\n",
    "Finds the average ticket price across all movies."
   ]
  },
  {
   "cell_type": "code",
   "execution_count": 4,
   "id": "7c454b4d-6834-4a93-9208-52a0d2dca752",
   "metadata": {},
   "outputs": [
    {
     "ename": "SyntaxError",
     "evalue": "invalid syntax. Perhaps you forgot a comma? (4076235853.py, line 19)",
     "output_type": "error",
     "traceback": [
      "\u001b[1;36m  Cell \u001b[1;32mIn[4], line 19\u001b[1;36m\u001b[0m\n\u001b[1;33m    avg_price = sum(price for_,price,_in movies)/len(movies)\u001b[0m\n\u001b[1;37m                    ^\u001b[0m\n\u001b[1;31mSyntaxError\u001b[0m\u001b[1;31m:\u001b[0m invalid syntax. Perhaps you forgot a comma?\n"
     ]
    }
   ],
   "source": [
    "movie = [ \n",
    "    (\"Movie A\",250,120),\n",
    "    (\"Movie B\",300,95),\n",
    "    (\"Movie C\",180,150)\n",
    "]\n",
    "\n",
    "# Calculate and display revenue for each movie\n",
    "\n",
    "revenues = {name:price*tickets for name, price, tickets in movies}\n",
    "for name,revenue in revenues.items():\n",
    "    print(f\"Totalrevenue fro {name}:{revenue}\")\n",
    "\n",
    "\n",
    "# Find the highest-grossing movie\n",
    "highest_gross=max(revenue,key=revenue.get)\n",
    "print(f\"Highest-grossing movie:{highest_gross}\")\n",
    "\n",
    "# Calculate and display the average ticket price\n",
    "avg_price = sum(price for_,price,_in movies)/len(movies)\n",
    "print(f\"Average ticket price:{avg_price:.2f}\")\n",
    "tickets for name,price,tickets in movie\n"
   ]
  },
  {
   "cell_type": "code",
   "execution_count": null,
   "id": "753cadf2-83e6-45b6-90e4-1badee4a51b5",
   "metadata": {},
   "outputs": [],
   "source": []
  }
 ],
 "metadata": {
  "kernelspec": {
   "display_name": "Python [conda env:base] *",
   "language": "python",
   "name": "conda-base-py"
  },
  "language_info": {
   "codemirror_mode": {
    "name": "ipython",
    "version": 3
   },
   "file_extension": ".py",
   "mimetype": "text/x-python",
   "name": "python",
   "nbconvert_exporter": "python",
   "pygments_lexer": "ipython3",
   "version": "3.12.7"
  }
 },
 "nbformat": 4,
 "nbformat_minor": 5
}

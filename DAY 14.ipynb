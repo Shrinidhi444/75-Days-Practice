{
 "cells": [
  {
   "cell_type": "markdown",
   "id": "2beba97e-2283-4fde-8017-872e6e95a051",
   "metadata": {},
   "source": [
    "## Problem Statement: Movie Ticket Pricing System with Seat Categories 🎭\n",
    "You are developing a movie ticket pricing system for a theater. The ticket price depends on both age and seat category.\n",
    "\n",
    "Age-Based Pricing:\n",
    "Children (0-12 years) → ₹100\n",
    "Teenagers (13-17 years) → ₹150\n",
    "Adults (18-59 years) → ₹250\n",
    "Senior Citizens (60+ years) → ₹200\n",
    "Seat Categories (Multipliers):\n",
    "Silver → Base price × 1.0\n",
    "Gold → Base price × 1.5\n",
    "Titanium → Base price × 2.0\n",
    "Program Requirements:\n",
    "Ask the user for their age.\n",
    "Ask the user to choose a seat category (Silver, Gold, or Titanium).\n",
    "Calculate and print the final ticket price based on the chosen category.\n",
    "If the input is invalid (negative age, non-numeric input, invalid seat type), handle errors gracefully."
   ]
  },
  {
   "cell_type": "code",
   "execution_count": 1,
   "id": "bf585e61-7428-43b7-819c-8fe45c7d311e",
   "metadata": {},
   "outputs": [
    {
     "name": "stdin",
     "output_type": "stream",
     "text": [
      "Enter Your Age:  21\n",
      "Choose Your Category (Silver/Gold/Titanium):  Titanium\n"
     ]
    },
    {
     "name": "stdout",
     "output_type": "stream",
     "text": [
      "Your final ticket price is ₹500.00\n"
     ]
    }
   ],
   "source": [
    "class Movieticket:\n",
    "    def __init__(self, age, price, category):\n",
    "        self.age = age\n",
    "        self.price = price\n",
    "        self.category = category  \n",
    "    def Checkage(self):\n",
    "        if self.age < 0:\n",
    "            print(\"Enter Valid age!!!\")\n",
    "            return  \n",
    "        elif self.age <= 12:\n",
    "            self.price = 100\n",
    "        elif self.age <= 17:\n",
    "            self.price = 150\n",
    "        elif self.age <= 59:\n",
    "            self.price = 250\n",
    "        else:\n",
    "            self.price = 200\n",
    "\n",
    "    def Categories(self):\n",
    "        if self.category.lower() == \"silver\":\n",
    "            self.price *= 1.0\n",
    "        elif self.category.lower() == \"gold\":\n",
    "            self.price *= 1.5\n",
    "        elif self.category.lower() == \"titanium\":\n",
    "            self.price *= 2.0\n",
    "        else:\n",
    "            print(\"Invalid seat type! Defaulting to Silver.\")\n",
    "            self.price *= 1.0  \n",
    "\n",
    "    def displayPrice(self):\n",
    "        print(f\"Your final ticket price is ₹{self.price:.2f}\")\n",
    "\n",
    "\n",
    "\n",
    "age = int(input(\"Enter Your Age: \"))\n",
    "category = input(\"Choose Your Category (Silver/Gold/Titanium): \")\n",
    "price = 0  \n",
    "\n",
    "\n",
    "c1 = Movieticket(age, price, category)\n",
    "\n",
    "\n",
    "c1.Checkage()\n",
    "c1.Categories()\n",
    "c1.displayPrice()  \n"
   ]
  },
  {
   "cell_type": "code",
   "execution_count": null,
   "id": "ec41dc87-c094-4a84-b45a-2b336564cb46",
   "metadata": {},
   "outputs": [],
   "source": []
  }
 ],
 "metadata": {
  "kernelspec": {
   "display_name": "Python [conda env:base] *",
   "language": "python",
   "name": "conda-base-py"
  },
  "language_info": {
   "codemirror_mode": {
    "name": "ipython",
    "version": 3
   },
   "file_extension": ".py",
   "mimetype": "text/x-python",
   "name": "python",
   "nbconvert_exporter": "python",
   "pygments_lexer": "ipython3",
   "version": "3.12.7"
  }
 },
 "nbformat": 4,
 "nbformat_minor": 5
}

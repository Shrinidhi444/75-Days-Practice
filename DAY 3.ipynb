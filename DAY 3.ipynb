{
 "cells": [
  {
   "cell_type": "markdown",
   "id": "47251007-3c95-41ec-a5aa-6717790c5a84",
   "metadata": {},
   "source": [
    "# Calculate the Factorial of a Given Number. Given an integer \n",
    "𝑁\n",
    "N, compute \n",
    "𝑁\n",
    "!\n",
    "N!."
   ]
  },
  {
   "cell_type": "code",
   "execution_count": 12,
   "id": "528f81a1-a54c-4131-b8f8-63363085b12f",
   "metadata": {},
   "outputs": [
    {
     "name": "stdin",
     "output_type": "stream",
     "text": [
      "Enter no: 0\n"
     ]
    },
    {
     "name": "stdout",
     "output_type": "stream",
     "text": [
      "Factorial is 1\n"
     ]
    }
   ],
   "source": [
    "n=int(input(\"Enter no:\"))\n",
    "fact = 1\n",
    "\n",
    "if (n == 0 & n==1):\n",
    "    print(\"Factorial is\",fact)\n",
    "else:\n",
    "    for i in range(1,n+1):\n",
    "        fact = fact * i\n",
    "    print(\"Factorial is\",fact)"
   ]
  },
  {
   "cell_type": "markdown",
   "id": "438e2f60-e51b-4417-9bd9-e99cfb414c14",
   "metadata": {},
   "source": [
    "# Find the Fibonacci Series up to N terms. Given a number \n",
    "𝑁\n",
    "N, print the first \n",
    "𝑁\n",
    "N terms of the Fibonacci series."
   ]
  },
  {
   "cell_type": "code",
   "execution_count": 28,
   "id": "70bff960-0a53-4953-b6b8-43d6ccffb442",
   "metadata": {},
   "outputs": [
    {
     "name": "stdin",
     "output_type": "stream",
     "text": [
      "Enter no: 4\n"
     ]
    },
    {
     "name": "stdout",
     "output_type": "stream",
     "text": [
      "0\n",
      "1\n",
      "1\n",
      "2\n",
      "3\n"
     ]
    }
   ],
   "source": [
    "no=int(input(\"Enter no:\"))\n",
    "a=0\n",
    "print(a)\n",
    "b=1\n",
    "print(b)\n",
    "for i in range(2,no+1):\n",
    "    fib = a + b\n",
    "    print(fib)\n",
    "    a=b\n",
    "    b=fib"
   ]
  },
  {
   "cell_type": "markdown",
   "id": "bd464432-0694-4297-a6d1-8ce27f4a2727",
   "metadata": {},
   "source": [
    "# Check if a Number is Prime. Given an integer \n",
    "𝑁\n",
    "N, determine if it is a prime number.\n"
   ]
  },
  {
   "cell_type": "code",
   "execution_count": 67,
   "id": "ddf64114-5a9e-43ac-a136-8d3919df49dc",
   "metadata": {},
   "outputs": [
    {
     "name": "stdin",
     "output_type": "stream",
     "text": [
      "Enter no: 4\n"
     ]
    },
    {
     "name": "stdout",
     "output_type": "stream",
     "text": [
      "not prime\n"
     ]
    }
   ],
   "source": [
    "no=int(input(\"Enter no:\"))\n",
    "\n",
    "flag = 0\n",
    "if(no == 0 & no == 1):\n",
    "    flag = 1\n",
    "for i in range(2,no):\n",
    "    if(no%i==0):\n",
    "        flag = 1\n",
    "if flag == 1:\n",
    "    print(\"not prime\")\n",
    "else:\n",
    "    print(\"prime\")"
   ]
  },
  {
   "cell_type": "code",
   "execution_count": 73,
   "id": "8c46361c-9de0-4f13-b307-c6e235bb352e",
   "metadata": {},
   "outputs": [
    {
     "name": "stdin",
     "output_type": "stream",
     "text": [
      "Enter no: 23\n"
     ]
    },
    {
     "name": "stdout",
     "output_type": "stream",
     "text": [
      "prime\n"
     ]
    }
   ],
   "source": [
    "no=int(input(\"Enter no:\"))\n",
    "flag =0\n",
    "\n",
    "if (no == 1 & no == 0):\n",
    "    flag = 1\n",
    "for i in range (2,no):\n",
    "    if (no%i==0):\n",
    "        flag = 1\n",
    "\n",
    "if (flag == 1):\n",
    "    print(\"not\")\n",
    "else:\n",
    "    print(\"prime\")\n"
   ]
  },
  {
   "cell_type": "code",
   "execution_count": 88,
   "id": "02788112-0a28-4dfb-aa37-154063413bd4",
   "metadata": {},
   "outputs": [
    {
     "name": "stdin",
     "output_type": "stream",
     "text": [
      "Enter no: 23\n"
     ]
    },
    {
     "name": "stdout",
     "output_type": "stream",
     "text": [
      "prime\n"
     ]
    }
   ],
   "source": [
    "no=int(input(\"Enter no:\"))\n",
    "flag = 0\n",
    "\n",
    "if (no == 1 & no == 0):\n",
    "    flag = 1\n",
    "for i in range(2,no):\n",
    "    if (no%i==0):\n",
    "        flag = 1\n",
    "\n",
    "if flag == 1:\n",
    "    print(\"not\")\n",
    "else:\n",
    "    print(\"prime\")\n",
    "    "
   ]
  },
  {
   "cell_type": "markdown",
   "id": "73a6fefc-2329-4e68-86d4-b582ebdc9a54",
   "metadata": {},
   "source": [
    "# Find the GCD (Greatest Common Divisor) of Two Numbers. Given two numbers \n",
    "𝐴\n",
    "A and \n",
    "𝐵\n",
    "B, find their GCD using the Euclidean algorithm."
   ]
  },
  {
   "cell_type": "code",
   "execution_count": 101,
   "id": "b4080d3f-9430-4c92-bedf-125f80bf7614",
   "metadata": {},
   "outputs": [
    {
     "name": "stdin",
     "output_type": "stream",
     "text": [
      "Enter First no: 48\n",
      "Enter Second no: 18\n"
     ]
    },
    {
     "name": "stdout",
     "output_type": "stream",
     "text": [
      "6\n"
     ]
    }
   ],
   "source": [
    "# Logic GCD(A,A mod B)\n",
    "\n",
    "a = int(input(\"Enter First no:\"))\n",
    "b = int(input(\"Enter Second no:\"))\n",
    "\n",
    "while b != 0:\n",
    "    a,b=b,(a % b)\n",
    "print(a)"
   ]
  },
  {
   "cell_type": "code",
   "execution_count": 105,
   "id": "7be68af0-b37d-4d6c-89dd-a320250a6ff8",
   "metadata": {},
   "outputs": [
    {
     "name": "stdin",
     "output_type": "stream",
     "text": [
      "Enter First no: 48\n",
      "Enter Second no: 18\n"
     ]
    },
    {
     "name": "stdout",
     "output_type": "stream",
     "text": [
      "6\n"
     ]
    }
   ],
   "source": [
    "a = int(input(\"Enter First no:\"))\n",
    "b = int(input(\"Enter Second no:\"))\n",
    "\n",
    "while b != 0:\n",
    "    a,b=b,a%b\n",
    "print(a)"
   ]
  },
  {
   "cell_type": "markdown",
   "id": "91210e89-fc10-4f32-a491-66a93bfc41d5",
   "metadata": {},
   "source": [
    "# Find the LCM (Least Common Multiple) of Two Numbers. Given two numbers \n",
    "𝐴\n",
    "A and \n",
    "𝐵\n",
    "B, compute their LCM."
   ]
  },
  {
   "cell_type": "code",
   "execution_count": 117,
   "id": "c91bd719-72f4-42f8-9409-075be1b00c20",
   "metadata": {},
   "outputs": [
    {
     "name": "stdin",
     "output_type": "stream",
     "text": [
      "Enter First no: 48\n",
      "Enter Second no: 18\n"
     ]
    },
    {
     "name": "stdout",
     "output_type": "stream",
     "text": [
      "LCM: 144\n"
     ]
    }
   ],
   "source": [
    "# Logic LCM = A * B // GCd\n",
    "A = int(input(\"Enter First no:\"))\n",
    "B = int(input(\"Enter Second no:\"))\n",
    "a,b = A,B\n",
    "while b != 0:\n",
    "    a,b=b,a%b\n",
    "GCD = a \n",
    "Lcm = (A*B)//GCD\n",
    "print(\"LCM:\",Lcm)"
   ]
  },
  {
   "cell_type": "code",
   "execution_count": 119,
   "id": "35cd6a10-dd51-4d2b-bb15-6aee75920e7f",
   "metadata": {},
   "outputs": [
    {
     "name": "stdin",
     "output_type": "stream",
     "text": [
      "Enter First no: 48\n",
      "Enter Second no: 18\n"
     ]
    },
    {
     "name": "stdout",
     "output_type": "stream",
     "text": [
      "144\n"
     ]
    }
   ],
   "source": [
    "A = int(input(\"Enter First no:\"))\n",
    "B = int(input(\"Enter Second no:\"))\n",
    "\n",
    "a,b=A,B\n",
    "while b != 0:\n",
    "    a,b=b,a%b\n",
    "\n",
    "gdc = a\n",
    "\n",
    "lcm = (A*B)//gdc \n",
    "\n",
    "print(lcm)"
   ]
  },
  {
   "cell_type": "code",
   "execution_count": null,
   "id": "e742b177-79dd-4348-b774-471d5e628a7b",
   "metadata": {},
   "outputs": [],
   "source": []
  }
 ],
 "metadata": {
  "kernelspec": {
   "display_name": "Python [conda env:base] *",
   "language": "python",
   "name": "conda-base-py"
  },
  "language_info": {
   "codemirror_mode": {
    "name": "ipython",
    "version": 3
   },
   "file_extension": ".py",
   "mimetype": "text/x-python",
   "name": "python",
   "nbconvert_exporter": "python",
   "pygments_lexer": "ipython3",
   "version": "3.12.7"
  }
 },
 "nbformat": 4,
 "nbformat_minor": 5
}

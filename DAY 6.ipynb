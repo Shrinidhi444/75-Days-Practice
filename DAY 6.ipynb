{
 "cells": [
  {
   "cell_type": "markdown",
   "id": "f154eabc-24aa-428b-ace5-bea456a7a67d",
   "metadata": {},
   "source": [
    "# Motion Challenge"
   ]
  },
  {
   "cell_type": "markdown",
   "id": "3644e94c-6227-496c-a9e6-279f012628de",
   "metadata": {},
   "source": [
    "## Explanation of the Code \n",
    "The program is designed to find a path from (0,0) to (4,3) while avoiding an obstacle at (3,2). It uses recursion, which means the function calls itself repeatedly to explore possible paths.\n",
    "\n"
   ]
  },
  {
   "cell_type": "code",
   "execution_count": 6,
   "id": "9ea95df0-d6b0-4a48-902a-af7d899e0efd",
   "metadata": {},
   "outputs": [
    {
     "name": "stdin",
     "output_type": "stream",
     "text": [
      "Enter goal x position:  4\n",
      "Enter goal y position:  5\n"
     ]
    },
    {
     "name": "stdout",
     "output_type": "stream",
     "text": [
      "Path to Goal: ['Right', 'Right', 'Right', 'Right', 'Up', 'Up', 'Up', 'Up', 'Up']\n"
     ]
    }
   ],
   "source": [
    "def find_path(x, y, goal_x, goal_y, path):\n",
    "    if (x, y) == (goal_x, goal_y):\n",
    "        return path\n",
    "    if (x, y) == (3, 2):\n",
    "        return None\n",
    "    if x < goal_x:\n",
    "        new_path = find_path(x + 1, y, goal_x, goal_y, path + [\"Right\"])\n",
    "        if new_path:\n",
    "            return new_path\n",
    "    if y < goal_y:\n",
    "        new_path = find_path(x, y + 1, goal_x, goal_y, path + [\"Up\"])\n",
    "        if new_path:\n",
    "            return new_path\n",
    "    return None\n",
    "\n",
    "goal_x = int(input(\"Enter goal x position: \"))\n",
    "goal_y = int(input(\"Enter goal y position: \"))\n",
    "\n",
    "path = find_path(0, 0, goal_x, goal_y, [])\n",
    "\n",
    "if path:\n",
    "    print(\"Path to Goal:\", path)\n",
    "else:\n",
    "    print(\"No path found!\")\n"
   ]
  },
  {
   "cell_type": "code",
   "execution_count": null,
   "id": "0524ef52-9fd6-4f09-8626-12a2595c0a4c",
   "metadata": {},
   "outputs": [],
   "source": []
  }
 ],
 "metadata": {
  "kernelspec": {
   "display_name": "Python [conda env:base] *",
   "language": "python",
   "name": "conda-base-py"
  },
  "language_info": {
   "codemirror_mode": {
    "name": "ipython",
    "version": 3
   },
   "file_extension": ".py",
   "mimetype": "text/x-python",
   "name": "python",
   "nbconvert_exporter": "python",
   "pygments_lexer": "ipython3",
   "version": "3.12.7"
  }
 },
 "nbformat": 4,
 "nbformat_minor": 5
}

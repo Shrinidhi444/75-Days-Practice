{
 "cells": [
  {
   "cell_type": "markdown",
   "id": "e5f30bb8-807f-4e64-8664-4dd1cdc1ef53",
   "metadata": {},
   "source": [
    "# Find the missing number"
   ]
  },
  {
   "cell_type": "code",
   "execution_count": 15,
   "id": "e3634f35-2192-43a7-bafc-892aef119dc4",
   "metadata": {},
   "outputs": [
    {
     "name": "stdin",
     "output_type": "stream",
     "text": [
      "Enter no separated by spaces: 1 2 4 5\n"
     ]
    },
    {
     "name": "stdout",
     "output_type": "stream",
     "text": [
      "Missing no: 3\n"
     ]
    }
   ],
   "source": [
    "def miss(l):\n",
    "    n = max(l)\n",
    "    return (n*(n+1)//2)-sum(l)\n",
    "\n",
    "l=list(map(int,input(\"Enter no separated by spaces:\").split()))\n",
    "print(\"Missing no:\",miss(l))"
   ]
  },
  {
   "cell_type": "markdown",
   "id": "08d02cd3-94ce-4f36-933a-ddf99f051d89",
   "metadata": {},
   "source": [
    "# Check the Anagram"
   ]
  },
  {
   "cell_type": "code",
   "execution_count": 23,
   "id": "19f78dd5-e911-4ef8-8a46-7a414e2fcaaa",
   "metadata": {},
   "outputs": [
    {
     "name": "stdin",
     "output_type": "stream",
     "text": [
      "Enter two Words: shri\n",
      "Enter two Words: shri\n"
     ]
    },
    {
     "name": "stdout",
     "output_type": "stream",
     "text": [
      "Anagram: True\n"
     ]
    }
   ],
   "source": [
    "def ana(s1,s2):\n",
    "    return sorted(s1)==sorted(s2)\n",
    "\n",
    "s1=input(\"Enter two Words:\")\n",
    "s2=input(\"Enter two Words:\")\n",
    "print(\"Anagram:\",ana(s1,s2))"
   ]
  },
  {
   "cell_type": "markdown",
   "id": "f5b1057e-151a-45f5-8d90-2b2fd0b875ec",
   "metadata": {},
   "source": [
    "# Fizzbuzz"
   ]
  },
  {
   "cell_type": "code",
   "execution_count": 32,
   "id": "15cdb78b-2a96-479f-b44e-4bc4adc07a6d",
   "metadata": {},
   "outputs": [
    {
     "name": "stdin",
     "output_type": "stream",
     "text": [
      "Enter start and end range (separated by space):  1 5\n"
     ]
    },
    {
     "name": "stdout",
     "output_type": "stream",
     "text": [
      "1\n",
      "2\n",
      "Fizz\n",
      "4\n",
      "Buzz\n"
     ]
    }
   ],
   "source": [
    "start, end = map(int, input(\"Enter start and end range (separated by space): \").split())\n",
    "\n",
    "for i in range(start, end + 1):\n",
    "    print(\"FizzBuzz\" if i % 3 == 0 and i % 5 == 0 else \"Fizz\" if i % 3 == 0 else \"Buzz\" if i % 5 == 0 else i)\n"
   ]
  },
  {
   "cell_type": "code",
   "execution_count": null,
   "id": "8649f3df-95c9-4fd0-b3ed-b27aee583693",
   "metadata": {},
   "outputs": [],
   "source": []
  },
  {
   "cell_type": "code",
   "execution_count": null,
   "id": "ec5836bc-1bae-43e8-9354-b2df0dbc9e93",
   "metadata": {},
   "outputs": [],
   "source": []
  },
  {
   "cell_type": "code",
   "execution_count": null,
   "id": "b4a71079-2c18-4c9c-8d61-390f4fcffe01",
   "metadata": {},
   "outputs": [],
   "source": []
  }
 ],
 "metadata": {
  "kernelspec": {
   "display_name": "Python [conda env:base] *",
   "language": "python",
   "name": "conda-base-py"
  },
  "language_info": {
   "codemirror_mode": {
    "name": "ipython",
    "version": 3
   },
   "file_extension": ".py",
   "mimetype": "text/x-python",
   "name": "python",
   "nbconvert_exporter": "python",
   "pygments_lexer": "ipython3",
   "version": "3.12.7"
  }
 },
 "nbformat": 4,
 "nbformat_minor": 5
}

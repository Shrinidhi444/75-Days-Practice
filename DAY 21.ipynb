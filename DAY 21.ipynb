{
 "cells": [
  {
   "cell_type": "markdown",
   "id": "82c680e3-4078-48fd-810c-2722867e3365",
   "metadata": {},
   "source": [
    "# 1.Problem Statement:\n",
    "You are given a four-digit sequence as input. Apply a specific transformation rule to rearrange the digits and return the new sequence.\n",
    "\n",
    "Transformation Rule:\n",
    "\n",
    "Move the first digit to the second position.\n",
    "\n",
    "Move the second digit to the last position.\n",
    "\n",
    "Move the third digit to the first position.\n",
    "\n",
    "Keep the fourth digit in the third position."
   ]
  },
  {
   "cell_type": "code",
   "execution_count": 12,
   "id": "42b39e10-f3dd-4a15-8505-73aeea976b20",
   "metadata": {},
   "outputs": [
    {
     "name": "stdin",
     "output_type": "stream",
     "text": [
      "Enter 4 digit number 1234\n"
     ]
    },
    {
     "name": "stdout",
     "output_type": "stream",
     "text": [
      "Transformed sequence: 2413\n"
     ]
    }
   ],
   "source": [
    "def Transform_sequence(sequence : str)->str:\n",
    "\n",
    "    if len(sequence) != 4 or not sequence.isdigit():\n",
    "        return \"Invalid Input!!!\"\n",
    "\n",
    "    new_sequence = sequence[1] + sequence[3] + sequence[0] + sequence[2]\n",
    "    return new_sequence\n",
    "\n",
    "user_input = input(\"Enter 4 digit number\")\n",
    "\n",
    "print(\"Transformed sequence:\",Transform_sequence(user_input))"
   ]
  },
  {
   "cell_type": "markdown",
   "id": "acf0f716-46e7-463a-a921-c2d6e6d234a4",
   "metadata": {},
   "source": [
    "# 2.Problem Statement:\n",
    "You are given a 4-digit number. Your task is to transform the number using a different rule and return the new sequence.\n",
    "\n",
    "Transformation Rule:\n",
    "Swap the first and last digits.\n",
    "\n",
    "Swap the second and third digits.\n"
   ]
  },
  {
   "cell_type": "code",
   "execution_count": 15,
   "id": "89a7c854-75d6-47e1-8ac2-98087dd44d1b",
   "metadata": {},
   "outputs": [
    {
     "name": "stdin",
     "output_type": "stream",
     "text": [
      "Enter 4 digit number 1234\n"
     ]
    },
    {
     "name": "stdout",
     "output_type": "stream",
     "text": [
      "Transformed string: 4321\n"
     ]
    }
   ],
   "source": [
    "def Tran_seq(seq:str)->str: \n",
    "    if len(seq) != 4 or not seq.isdigit():\n",
    "        return \"Invalid!!\"\n",
    "\n",
    "    new_str = seq[3] + seq[2] + seq[1] + seq[0]\n",
    "    return new_str\n",
    "\n",
    "user_in = input(\"Enter 4 digit number\")\n",
    "print(\"Transformed string:\",Tran_seq(user_in))"
   ]
  },
  {
   "cell_type": "markdown",
   "id": "bdd7fa81-7dd1-442f-b2e5-6f360cb01bec",
   "metadata": {},
   "source": [
    "# 3.Problem Statement:\n",
    "You are given a 4-digit number as input. Your task is to:\n",
    "\n",
    "Rearrange the digits based on a new transformation rule.\n",
    "\n",
    "Map each digit to a unique symbol (+, △, ⚫, 🟥).\n",
    "\n",
    "Return the transformed sequence along with its mapped symbols.\n",
    "\n",
    "Transformation Rule:\n",
    "Swap 1st and 3rd digits.\n",
    "\n",
    "Swap 2nd and 4th digits.\n",
    "\n",
    "Then, replace the digits with predefined symbols:\n",
    "\n",
    "1 or 2 → +\n",
    "\n",
    "3 or 4 → △\n",
    "\n",
    "5 or 6 → ⚫\n",
    "\n",
    "7, 8, 9, 0 → 🟥\n",
    "\n"
   ]
  },
  {
   "cell_type": "code",
   "execution_count": 25,
   "id": "35cb28f3-6e60-499a-8c13-ad38990920f0",
   "metadata": {},
   "outputs": [
    {
     "name": "stdin",
     "output_type": "stream",
     "text": [
      "Enter a 4-digit number:  1298\n"
     ]
    },
    {
     "name": "stdout",
     "output_type": "stream",
     "text": [
      "Transformed Sequence: 9812\n",
      "Mapped Symbols: 🟥 🟥 ++\n"
     ]
    }
   ],
   "source": [
    "def Trans_map(sequences:str)->str:\n",
    "    if len(sequences) != 4 or not sequences.isdigit():\n",
    "        return \"Invalid!!\"\n",
    "\n",
    "    trans_seq = sequences[2] + sequences[3] + sequences[0] + sequences[1]\n",
    "\n",
    "    digit_to_symbol = {\n",
    "        '1': '+', '2': '+',\n",
    "        '3': '△', '4': '△',\n",
    "        '5': '⚫', '6': '⚫',\n",
    "        '7': '🟥', '8': '🟥', '9': '🟥', '0': '🟥'\n",
    "    }\n",
    "\n",
    "    mapped_symbols = \"\"\n",
    "    #  OR mapped_symbols = \" \".join(digit_to_symbol[digit] for digit in transformed_sequence)\n",
    "    for digit in trans_seq:\n",
    "        if digit in ['1','2']:\n",
    "            mapped_symbols += \"+\"\n",
    "        elif digit in ['3', '4']:\n",
    "            mapped_symbols += \"△ \"\n",
    "        elif digit in ['5', '6']:\n",
    "            mapped_symbols += \"⚫ \"\n",
    "        else:  # For 7, 8, 9, 0\n",
    "            mapped_symbols += \"🟥 \"\n",
    "\n",
    "    return f\"Transformed Sequence: {trans_seq}\\nMapped Symbols: {mapped_symbols.strip()}\"\n",
    "\n",
    "user_input = input(\"Enter a 4-digit number: \")\n",
    "\n",
    "print(Trans_map(user_input))"
   ]
  },
  {
   "cell_type": "code",
   "execution_count": null,
   "id": "d1f9b3ab-8587-45f4-9c6f-37d25063dc51",
   "metadata": {},
   "outputs": [],
   "source": []
  }
 ],
 "metadata": {
  "kernelspec": {
   "display_name": "Python [conda env:base] *",
   "language": "python",
   "name": "conda-base-py"
  },
  "language_info": {
   "codemirror_mode": {
    "name": "ipython",
    "version": 3
   },
   "file_extension": ".py",
   "mimetype": "text/x-python",
   "name": "python",
   "nbconvert_exporter": "python",
   "pygments_lexer": "ipython3",
   "version": "3.12.7"
  }
 },
 "nbformat": 4,
 "nbformat_minor": 5
}

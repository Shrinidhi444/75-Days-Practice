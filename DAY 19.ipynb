{
 "cells": [
  {
   "cell_type": "markdown",
   "id": "965b9cca-b9f1-486d-b40b-c772b883cdf7",
   "metadata": {},
   "source": [
    "# Problem: Simple Inventory System\n",
    "You need to write a Python program to help a shopkeeper manage their stock. The program should:\n",
    "\n",
    "Add new items (name, quantity, price).\n",
    "\n",
    "Update stock when new items arrive.\n",
    "\n",
    "Sell items (reduce stock when a customer buys).\n",
    "\n",
    "Show stock details (list all items).\n",
    "\n",
    "Search for an item by name.\n",
    "\n",
    "Rules:\n",
    "Use a dictionary to store items.\n",
    "\n",
    "Use functions to manage the inventory.\n",
    "\n",
    "Handle errors like \"Item not found\" or \"Not enough stock\".\n"
   ]
  },
  {
   "cell_type": "code",
   "execution_count": null,
   "id": "aa7120c3-34a2-4279-b475-3aca9c74529c",
   "metadata": {},
   "outputs": [
    {
     "name": "stdout",
     "output_type": "stream",
     "text": [
      "\n",
      "1. Add Item\n",
      "2. Update Stock\n",
      "3. Sell Item\n",
      "4. Show Inventory\n",
      "5. Search Item\n",
      "6. Exit\n"
     ]
    },
    {
     "name": "stdin",
     "output_type": "stream",
     "text": [
      "Enter your choice:  1\n",
      "Enter item name:  choko\n",
      "Enter quantity:  30\n",
      "Enter price per unit:  10\n"
     ]
    },
    {
     "name": "stdout",
     "output_type": "stream",
     "text": [
      "30 choko(s) added!!\n",
      "\n",
      "1. Add Item\n",
      "2. Update Stock\n",
      "3. Sell Item\n",
      "4. Show Inventory\n",
      "5. Search Item\n",
      "6. Exit\n"
     ]
    },
    {
     "name": "stdin",
     "output_type": "stream",
     "text": [
      "Enter your choice:  3\n",
      "Enter item name:  choko\n",
      "Enter quantity to sell:  20\n"
     ]
    },
    {
     "name": "stdout",
     "output_type": "stream",
     "text": [
      "Sold 20 choko(s) for ₹200.0\n",
      "\n",
      "1. Add Item\n",
      "2. Update Stock\n",
      "3. Sell Item\n",
      "4. Show Inventory\n",
      "5. Search Item\n",
      "6. Exit\n"
     ]
    },
    {
     "name": "stdin",
     "output_type": "stream",
     "text": [
      "Enter your choice:  4\n"
     ]
    },
    {
     "name": "stdout",
     "output_type": "stream",
     "text": [
      "\n",
      "Current Inventory:\n",
      "choko: 10 available at ₹10.0 each\n",
      "\n",
      "1. Add Item\n",
      "2. Update Stock\n",
      "3. Sell Item\n",
      "4. Show Inventory\n",
      "5. Search Item\n",
      "6. Exit\n"
     ]
    },
    {
     "name": "stdin",
     "output_type": "stream",
     "text": [
      "Enter your choice:  2\n",
      "Enter item name:  choko\n",
      "Enter quantity to add:  40\n"
     ]
    },
    {
     "name": "stdout",
     "output_type": "stream",
     "text": [
      "Stock updated: choko now has 50 units.\n",
      "\n",
      "1. Add Item\n",
      "2. Update Stock\n",
      "3. Sell Item\n",
      "4. Show Inventory\n",
      "5. Search Item\n",
      "6. Exit\n"
     ]
    },
    {
     "name": "stdin",
     "output_type": "stream",
     "text": [
      "Enter your choice:  5\n",
      "Enter item name:  choko\n"
     ]
    },
    {
     "name": "stdout",
     "output_type": "stream",
     "text": [
      "choko: 50 available at ₹10.0 each\n",
      "\n",
      "1. Add Item\n",
      "2. Update Stock\n",
      "3. Sell Item\n",
      "4. Show Inventory\n",
      "5. Search Item\n",
      "6. Exit\n"
     ]
    }
   ],
   "source": [
    "class Product:\n",
    "    def __init__(self, name, quantity, price):\n",
    "        self.name = name\n",
    "        self.quantity = quantity\n",
    "        self.price = price\n",
    "\n",
    "    def display(self):\n",
    "        print(f\"{self.name}: {self.quantity} available at ₹{self.price} each\")\n",
    "\n",
    "\n",
    "class Inventory:\n",
    "    def __init__(self):\n",
    "        self.items = {}\n",
    "\n",
    "    def add_product(self, name, quantity, price):\n",
    "        if name in self.items:\n",
    "            self.items[name].quantity += quantity\n",
    "        else:\n",
    "            self.items[name] = Product(name, quantity, price)\n",
    "        print(f\"{quantity} {name}(s) added!!\")\n",
    "\n",
    "    def update_stock(self, name, quantity):\n",
    "        if name in self.items:\n",
    "            self.items[name].quantity += quantity\n",
    "            print(f\"Stock updated: {name} now has {self.items[name].quantity} units.\")\n",
    "        else:\n",
    "            print(\"Item not found\")\n",
    "\n",
    "    def sell_product(self, name, quantity):\n",
    "        if name in self.items:\n",
    "            if self.items[name].quantity >= quantity:\n",
    "                self.items[name].quantity -= quantity\n",
    "                total_price = quantity * self.items[name].price\n",
    "                print(f\"Sold {quantity} {name}(s) for ₹{total_price}\")\n",
    "            else:\n",
    "                print(\"Not enough stock available!\")\n",
    "        else:\n",
    "            print(\"Item not found!\")\n",
    "\n",
    "    def show_inventory(self):\n",
    "        if not self.items:\n",
    "            print(\"Inventory is empty!\")\n",
    "        else:\n",
    "            print(\"\\nCurrent Inventory:\")\n",
    "            for product in self.items.values():\n",
    "                product.display()\n",
    "\n",
    "    def search_product(self, name):\n",
    "        if name in self.items:\n",
    "            self.items[name].display()\n",
    "        else:\n",
    "            print(\"Item not found!\")\n",
    "\n",
    "\n",
    "inventory = Inventory()\n",
    "\n",
    "while True:\n",
    "    print(\"\\n1. Add Item\\n2. Update Stock\\n3. Sell Item\\n4. Show Inventory\\n5. Search Item\\n6. Exit\")\n",
    "    choice = input(\"Enter your choice: \")\n",
    "\n",
    "    if choice == \"1\":\n",
    "        name = input(\"Enter item name: \")\n",
    "        quantity = int(input(\"Enter quantity: \"))\n",
    "        price = float(input(\"Enter price per unit: \"))\n",
    "        inventory.add_product(name, quantity, price)\n",
    "\n",
    "    elif choice == \"2\":\n",
    "        name = input(\"Enter item name: \")\n",
    "        quantity = int(input(\"Enter quantity to add: \"))\n",
    "        inventory.update_stock(name, quantity)\n",
    "\n",
    "    elif choice == \"3\":\n",
    "        name = input(\"Enter item name: \")\n",
    "        quantity = int(input(\"Enter quantity to sell: \"))\n",
    "        inventory.sell_product(name, quantity)\n",
    "\n",
    "    elif choice == \"4\":\n",
    "        inventory.show_inventory()\n",
    "\n",
    "    elif choice == \"5\":\n",
    "        name = input(\"Enter item name: \")\n",
    "        inventory.search_product(name)\n",
    "\n",
    "    elif choice == \"6\":\n",
    "        print(\"Exiting program...\")\n",
    "        break\n",
    "\n",
    "    else:\n",
    "        print(\"Invalid choice! Please try again.\")\n"
   ]
  },
  {
   "cell_type": "code",
   "execution_count": null,
   "id": "87263cd4-062c-4bc0-ba2b-7b15feedc42d",
   "metadata": {},
   "outputs": [],
   "source": []
  }
 ],
 "metadata": {
  "kernelspec": {
   "display_name": "Python [conda env:base] *",
   "language": "python",
   "name": "conda-base-py"
  },
  "language_info": {
   "codemirror_mode": {
    "name": "ipython",
    "version": 3
   },
   "file_extension": ".py",
   "mimetype": "text/x-python",
   "name": "python",
   "nbconvert_exporter": "python",
   "pygments_lexer": "ipython3",
   "version": "3.12.7"
  }
 },
 "nbformat": 4,
 "nbformat_minor": 5
}

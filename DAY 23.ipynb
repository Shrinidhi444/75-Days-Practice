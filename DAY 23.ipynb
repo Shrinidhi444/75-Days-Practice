{
 "cells": [
  {
   "cell_type": "code",
   "execution_count": null,
   "id": "977e7c9e-1e66-4a20-a756-0bff2b3d832c",
   "metadata": {},
   "outputs": [],
   "source": []
  }
 ],
 "metadata": {
  "kernelspec": {
   "display_name": "",
   "name": ""
  },
  "language_info": {
   "name": ""
  }
 },
 "nbformat": 4,
 "nbformat_minor": 5
}

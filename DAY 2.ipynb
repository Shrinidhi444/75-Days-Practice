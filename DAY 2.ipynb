{
 "cells": [
  {
   "cell_type": "markdown",
   "id": "7437b370-956f-4cdf-a0bd-c94b36cf28ac",
   "metadata": {},
   "source": [
    "# 1. Check Even or Odd\n",
    "Write a Python program that takes an integer as input and prints \"Even\" if the number is even, otherwise prints \"Odd\".\n",
    "\n"
   ]
  },
  {
   "cell_type": "code",
   "execution_count": 28,
   "id": "99702fb6-5d96-4e6e-9911-187349e9cd1f",
   "metadata": {},
   "outputs": [
    {
     "name": "stdin",
     "output_type": "stream",
     "text": [
      "Enter no 4\n"
     ]
    },
    {
     "name": "stdout",
     "output_type": "stream",
     "text": [
      "4 Number is Even\n"
     ]
    }
   ],
   "source": [
    "class EO:\n",
    "    def __init__(self,no):\n",
    "        self.no=no\n",
    "\n",
    "    def evenodd(self):\n",
    "        if self.no % 2 == 0:\n",
    "            print(self.no,\"Number is Even\")\n",
    "        else:\n",
    "            print(self.no,\"Number is Odd\")\n",
    "\n",
    "no = int(input(\"Enter no\"))\n",
    "a1=EO(no)\n",
    "a1.evenodd()"
   ]
  },
  {
   "cell_type": "markdown",
   "id": "655db0b9-418e-4565-b772-cc1fe7e989d9",
   "metadata": {},
   "source": [
    "# Check Positive, Negative, or Zero\n",
    "Write a program that asks the user for a number and prints whether the number is positive, negative, or zero.\n"
   ]
  },
  {
   "cell_type": "code",
   "execution_count": 30,
   "id": "7f3d6c4b-916c-425f-ab66-148737755aaf",
   "metadata": {},
   "outputs": [
    {
     "name": "stdin",
     "output_type": "stream",
     "text": [
      "Enter Number 4\n"
     ]
    },
    {
     "name": "stdout",
     "output_type": "stream",
     "text": [
      "4 IS Positive!!\n"
     ]
    }
   ],
   "source": [
    "class PNZ:\n",
    "    def __init__(self,n):\n",
    "        self.n=n\n",
    "\n",
    "    def check(self):\n",
    "        if(n >= 0):\n",
    "            print(n,\"IS Positive!!\")\n",
    "        elif(n <= 0):\n",
    "            print(n,\"Is NEgative!!\")\n",
    "        else:\n",
    "            print(n,\"Is ZERO\")\n",
    "\n",
    "n=int(input(\"Enter Number\"))\n",
    "a2=PNZ(n)\n",
    "a2.check()"
   ]
  },
  {
   "cell_type": "markdown",
   "id": "76b46f2d-0c68-462d-827d-f4fed8ec111c",
   "metadata": {},
   "source": [
    "# Find the Largest Number\n",
    "Write a program that takes two numbers as input and prints the larger number. If both are equal, print \"Both numbers are equal\".\n",
    "\n"
   ]
  },
  {
   "cell_type": "code",
   "execution_count": 64,
   "id": "a2371baa-328b-4b39-b5a8-01cdc8552c54",
   "metadata": {},
   "outputs": [
    {
     "name": "stdin",
     "output_type": "stream",
     "text": [
      "Enter Number1: 99\n",
      "Enter Number2: 76\n"
     ]
    },
    {
     "name": "stdout",
     "output_type": "stream",
     "text": [
      "99 Is greater\n"
     ]
    }
   ],
   "source": [
    "class A:\n",
    "    def __init__(self,a,b):\n",
    "        self.a=a\n",
    "        self.b=b\n",
    "\n",
    "    def are(self):\n",
    "        if( a > b):\n",
    "            print(a,\"Is greater\")\n",
    "        else:\n",
    "            print(b,\"Is greater\")\n",
    "\n",
    "a = int(input(\"Enter Number1:\"))\n",
    "b = int(input(\"Enter Number2:\"))\n",
    "\n",
    "a7= A(a,b)\n",
    "a7.are()\n"
   ]
  },
  {
   "cell_type": "markdown",
   "id": "79dc3ec1-bde0-4b35-b7c2-21d905db5818",
   "metadata": {},
   "source": [
    "#  Check for Voting Eligibility\n",
    "Ask the user for their age. If the age is 18 or above, print \"Eligible to vote\"; otherwise, print \"Not eligible to vote\"."
   ]
  },
  {
   "cell_type": "code",
   "execution_count": 37,
   "id": "cb584989-972a-4763-94c1-e65b4562a442",
   "metadata": {},
   "outputs": [
    {
     "name": "stdin",
     "output_type": "stream",
     "text": [
      "Enter Your Age: 21\n"
     ]
    },
    {
     "name": "stdout",
     "output_type": "stream",
     "text": [
      "Person is Eligible to Vote\n"
     ]
    }
   ],
   "source": [
    "class V:\n",
    "    def __init__(self,age):\n",
    "        self.age = age\n",
    "\n",
    "    def valid(self):\n",
    "        if (age >= 18):\n",
    "            print(\"Person is Eligible to Vote\")\n",
    "\n",
    "        else:\n",
    "            print(\"Person is NotEligible to Vote\")\n",
    "\n",
    "age = int(input(\"Enter Your Age:\"))\n",
    "a3=V(age)\n",
    "a3.valid()"
   ]
  },
  {
   "cell_type": "markdown",
   "id": "35089b98-1da9-4a99-9b4b-f375754557ca",
   "metadata": {},
   "source": [
    "# Check Leap Year\n",
    "Write a program that takes a year as input and checks whether it is a leap year or not. (A leap year is divisible by 4, but not by 100, unless also divisible by 400.)\n",
    "\n"
   ]
  },
  {
   "cell_type": "code",
   "execution_count": 62,
   "id": "65afc831-e137-42d6-aecf-519d157b8a2b",
   "metadata": {},
   "outputs": [
    {
     "name": "stdin",
     "output_type": "stream",
     "text": [
      "Enter Year: 2004\n"
     ]
    },
    {
     "name": "stdout",
     "output_type": "stream",
     "text": [
      "Not a Leap Year\n"
     ]
    }
   ],
   "source": [
    "class Leap:\n",
    "    def __init__(self,year):\n",
    "        self.year = year\n",
    "\n",
    "    def iss(self):\n",
    "        if ((year % 4 == 0 or year % 100 != 0) and (year % 400 == 0)):\n",
    "            print(\"Is a Leap Year\")\n",
    "        else:\n",
    "            print(\"Not a Leap Year\")\n",
    "\n",
    "year = int(input(\"Enter Year:\"))\n",
    "a6=Leap(year)\n",
    "a6.iss()"
   ]
  },
  {
   "cell_type": "markdown",
   "id": "57e4ff9a-1196-492d-8a86-3dc82f6ecb0d",
   "metadata": {},
   "source": [
    " # Grade Calculator\n",
    "Write a program that takes a student's marks as input and prints their grade based on the following conditions:\n",
    "\n",
    "90 and above → \"A\"\n",
    "80 - 89 → \"B\"\n",
    "70 - 79 → \"C\"\n",
    "60 - 69 → \"D\"\n",
    "Below 60 → \"Fail\"\n"
   ]
  },
  {
   "cell_type": "code",
   "execution_count": 55,
   "id": "f2bd407b-6a3b-44e6-b04c-d706a15f96eb",
   "metadata": {},
   "outputs": [
    {
     "name": "stdin",
     "output_type": "stream",
     "text": [
      "Enter your marks: 88\n"
     ]
    },
    {
     "name": "stdout",
     "output_type": "stream",
     "text": [
      "B\n"
     ]
    }
   ],
   "source": [
    "class Grade:\n",
    "    def __init__(self,grade):\n",
    "        self.grade=grade\n",
    "    def Mark(self):\n",
    "        if(grade >= 90):\n",
    "            print(\"A\")\n",
    "        elif(grade < 90 and grade >= 80):\n",
    "            print(\"B\")\n",
    "        elif(grade < 80 and grade >= 70):\n",
    "            print(\"C\")\n",
    "        else:\n",
    "            print(\"Fail!!!\")\n",
    "\n",
    "\n",
    "grade = int(input(\"Enter your marks:\"))\n",
    "a4=Grade(grade)\n",
    "a4.Mark()"
   ]
  },
  {
   "cell_type": "markdown",
   "id": "d07c28a9-db68-4e7b-8bc9-76ac233ae8a5",
   "metadata": {},
   "source": [
    "# Check for a Number in a Range\n",
    "Write a program that checks whether a given number is between 1 and 100. If it is, print \"Within range\"; otherwise, print \"Out of range\".\n",
    "\n"
   ]
  },
  {
   "cell_type": "code",
   "execution_count": 60,
   "id": "28dd3d3f-4c0c-43fd-80f4-463fb6fd81c5",
   "metadata": {},
   "outputs": [
    {
     "name": "stdin",
     "output_type": "stream",
     "text": [
      "Enter Your Rnage: 56\n"
     ]
    },
    {
     "name": "stdout",
     "output_type": "stream",
     "text": [
      "You are out of Range!!\n"
     ]
    }
   ],
   "source": [
    "class Range:\n",
    "    def __init__(self,num):\n",
    "        self.num = num\n",
    "    def Checkn(self):\n",
    "        if (num <= 1 & num >= 100):\n",
    "            print(\"You are in Range!!\")\n",
    "        else:\n",
    "            print(\"You are out of Range!!\")\n",
    "\n",
    "num =int(input(\"Enter Your Rnage:\"))\n",
    "a5=Range(num)\n",
    "a5.Checkn()"
   ]
  },
  {
   "cell_type": "code",
   "execution_count": null,
   "id": "63931b6d-d0d6-4069-b8f9-98b652fe9794",
   "metadata": {},
   "outputs": [],
   "source": []
  }
 ],
 "metadata": {
  "kernelspec": {
   "display_name": "Python [conda env:base] *",
   "language": "python",
   "name": "conda-base-py"
  },
  "language_info": {
   "codemirror_mode": {
    "name": "ipython",
    "version": 3
   },
   "file_extension": ".py",
   "mimetype": "text/x-python",
   "name": "python",
   "nbconvert_exporter": "python",
   "pygments_lexer": "ipython3",
   "version": "3.12.7"
  }
 },
 "nbformat": 4,
 "nbformat_minor": 5
}
